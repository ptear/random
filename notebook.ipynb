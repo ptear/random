{
 "cells": [
  {
   "cell_type": "code",
   "execution_count": 1,
   "metadata": {},
   "outputs": [],
   "source": [
    "# %pip install requests\n",
    "# %pip install beautifulsoup4\n",
    "# %pip install pandas\n",
    "# %pip install tqdm\n",
    "# %pip install plotly\n",
    "# %pip install statsmodels\n",
    "# %pip install nbformat"
   ]
  },
  {
   "cell_type": "code",
   "execution_count": 2,
   "metadata": {},
   "outputs": [],
   "source": [
    "import requests\n",
    "from bs4 import BeautifulSoup\n",
    "from itertools import islice\n",
    "import warnings\n",
    "import pandas as pd\n",
    "from tqdm import tqdm\n",
    "import plotly.express as px\n",
    "import numpy as np\n",
    "import statsmodels.api as sm\n",
    "import plotly.graph_objects as go\n",
    "warnings.filterwarnings(\"ignore\")"
   ]
  },
  {
   "cell_type": "code",
   "execution_count": 3,
   "metadata": {},
   "outputs": [],
   "source": [
    "url = 'https://en.wikipedia.org/wiki/List_of_England_Test_cricketers'\n",
    "response = requests.get(url, verify=False)"
   ]
  },
  {
   "cell_type": "code",
   "execution_count": 4,
   "metadata": {},
   "outputs": [],
   "source": [
    "soup = BeautifulSoup(response.text, 'html.parser')"
   ]
  },
  {
   "cell_type": "code",
   "execution_count": 5,
   "metadata": {},
   "outputs": [],
   "source": [
    "# Step 1: Extract cricketer names and their reference IDs from the table rows\n",
    "cricketers = soup.select('table.wikitable tr')\n",
    "cricketer_info = []\n",
    "\n",
    "for row in cricketers[1:]:  # Skip header row\n",
    "    name_cell = row.find('th', scope='row')\n",
    "    if name_cell:\n",
    "        name = name_cell.text.strip()\n",
    "        refs = row.find_all('sup', class_='reference')\n",
    "        if refs:\n",
    "            ref_ids = [ref.find('a')['href'] for ref in refs]\n",
    "            cricketer_info.append((name, ref_ids))\n",
    "\n",
    "# Step 2: Map reference IDs to Cricinfo URLs\n",
    "cricinfo_links = {}\n",
    "\n",
    "for name, ref_ids in cricketer_info:\n",
    "    for ref_id in ref_ids:\n",
    "        citation_link_id = ref_id.lstrip('#')\n",
    "        citation = soup.find('li', id=citation_link_id)\n",
    "        if citation:\n",
    "            cricinfo_link = citation.find('a', class_='external text', href=True)\n",
    "            if cricinfo_link and 'espncricinfo.com' in cricinfo_link['href']:\n",
    "                cricinfo_links[name] = cricinfo_link['href']\n",
    "                break  # Assuming only one relevant link per cricketer, break after finding the first"
   ]
  },
  {
   "cell_type": "code",
   "execution_count": 6,
   "metadata": {},
   "outputs": [
    {
     "name": "stdout",
     "output_type": "stream",
     "text": [
      "Name: Matthew Potts, Cricinfo Link: http://www.espncricinfo.com/england/content/player/1027781.html\n",
      "Name: Matt Parkinson, Cricinfo Link: http://www.espncricinfo.com/england/content/player/653695.html\n",
      "Name: Jamie Overton, Cricinfo Link: http://www.espncricinfo.com/england/content/player/510530.html\n",
      "Name: Harry Brook, Cricinfo Link: http://www.espncricinfo.com/england/content/player/911707.html\n",
      "Name: Will Jacks, Cricinfo Link: http://www.espncricinfo.com/england/content/player/897549.html\n",
      "Name: Liam Livingstone, Cricinfo Link: http://www.espncricinfo.com/england/content/player/403902.html\n",
      "Name: Rehan Ahmed, Cricinfo Link: http://www.espncricinfo.com/england/content/player/1263691.html\n",
      "Name: Josh Tongue, Cricinfo Link: https://www.espncricinfo.com/cricketers/josh-tongue-857975\n",
      "Name: Tom Hartley, Cricinfo Link: https://www.espncricinfo.com/cricketers/tom-hartley-1150772\n",
      "Name: Shoaib Bashir, Cricinfo Link: https://www.espncricinfo.com/cricketers/shoaib-bashir-1334872\n"
     ]
    }
   ],
   "source": [
    "# Print the results\n",
    "for name, link in islice(cricinfo_links.items(), len(cricinfo_links)-10, None):\n",
    "    print(f\"Name: {name}, Cricinfo Link: {link}\")"
   ]
  },
  {
   "cell_type": "code",
   "execution_count": 7,
   "metadata": {},
   "outputs": [],
   "source": [
    "def extract_df(html_content):\n",
    "\n",
    "    soup = BeautifulSoup(html_content, 'html.parser')\n",
    "\n",
    "    # Find the \"Batting & Fielding\" section by looking for a p tag with specific text\n",
    "    batting_fielding_section = soup.find('p', text=lambda x: x and 'Batting & Fielding' in x)\n",
    "\n",
    "    # Assuming the batting table is immediately after the batting & fielding section\n",
    "    batting_table = batting_fielding_section.find_next_sibling('div').find('table')\n",
    "\n",
    "    df = pd.read_html(str(batting_table))[0]\n",
    "    \n",
    "    return df"
   ]
  },
  {
   "cell_type": "code",
   "execution_count": 8,
   "metadata": {},
   "outputs": [
    {
     "name": "stderr",
     "output_type": "stream",
     "text": [
      "100it [01:52,  1.13s/it]\n"
     ]
    }
   ],
   "source": [
    "# Example loop through cricinfo_links, assuming you have a way to fetch HTML content from URLs\n",
    "player_data = []\n",
    "for player_name, player_url in tqdm(islice(cricinfo_links.items(), len(cricinfo_links)-100, None)):\n",
    "    html_content = requests.get(player_url, verify=False).text\n",
    "    df_player = extract_df(html_content)\n",
    "    df_player['Name'] = player_name\n",
    "    player_data.append(df_player)"
   ]
  },
  {
   "cell_type": "code",
   "execution_count": 9,
   "metadata": {},
   "outputs": [],
   "source": [
    "# Create a DataFrame from the player data\n",
    "df = pd.concat(player_data)"
   ]
  },
  {
   "cell_type": "code",
   "execution_count": 10,
   "metadata": {},
   "outputs": [
    {
     "data": {
      "text/html": [
       "<div>\n",
       "<style scoped>\n",
       "    .dataframe tbody tr th:only-of-type {\n",
       "        vertical-align: middle;\n",
       "    }\n",
       "\n",
       "    .dataframe tbody tr th {\n",
       "        vertical-align: top;\n",
       "    }\n",
       "\n",
       "    .dataframe thead th {\n",
       "        text-align: right;\n",
       "    }\n",
       "</style>\n",
       "<table border=\"1\" class=\"dataframe\">\n",
       "  <thead>\n",
       "    <tr style=\"text-align: right;\">\n",
       "      <th></th>\n",
       "      <th>Format</th>\n",
       "      <th>Mat</th>\n",
       "      <th>Inns</th>\n",
       "      <th>NO</th>\n",
       "      <th>Runs</th>\n",
       "      <th>HS</th>\n",
       "      <th>Ave</th>\n",
       "      <th>BF</th>\n",
       "      <th>SR</th>\n",
       "      <th>100s</th>\n",
       "      <th>50s</th>\n",
       "      <th>4s</th>\n",
       "      <th>6s</th>\n",
       "      <th>Ct</th>\n",
       "      <th>St</th>\n",
       "      <th>Name</th>\n",
       "    </tr>\n",
       "  </thead>\n",
       "  <tbody>\n",
       "    <tr>\n",
       "      <th>0</th>\n",
       "      <td>Tests</td>\n",
       "      <td>4</td>\n",
       "      <td>5</td>\n",
       "      <td>0</td>\n",
       "      <td>201</td>\n",
       "      <td>81</td>\n",
       "      <td>40.2</td>\n",
       "      <td>402</td>\n",
       "      <td>50.00</td>\n",
       "      <td>0</td>\n",
       "      <td>2</td>\n",
       "      <td>27</td>\n",
       "      <td>1</td>\n",
       "      <td>3</td>\n",
       "      <td>0</td>\n",
       "      <td>Anthony McGrath</td>\n",
       "    </tr>\n",
       "    <tr>\n",
       "      <th>1</th>\n",
       "      <td>ODIs</td>\n",
       "      <td>14</td>\n",
       "      <td>12</td>\n",
       "      <td>2</td>\n",
       "      <td>166</td>\n",
       "      <td>52</td>\n",
       "      <td>16.6</td>\n",
       "      <td>353</td>\n",
       "      <td>47.02</td>\n",
       "      <td>0</td>\n",
       "      <td>1</td>\n",
       "      <td>11</td>\n",
       "      <td>0</td>\n",
       "      <td>4</td>\n",
       "      <td>0</td>\n",
       "      <td>Anthony McGrath</td>\n",
       "    </tr>\n",
       "    <tr>\n",
       "      <th>2</th>\n",
       "      <td>FC</td>\n",
       "      <td>257</td>\n",
       "      <td>429</td>\n",
       "      <td>30</td>\n",
       "      <td>14698</td>\n",
       "      <td>211</td>\n",
       "      <td>36.83</td>\n",
       "      <td>-</td>\n",
       "      <td>-</td>\n",
       "      <td>35</td>\n",
       "      <td>70</td>\n",
       "      <td>-</td>\n",
       "      <td>-</td>\n",
       "      <td>181</td>\n",
       "      <td>0</td>\n",
       "      <td>Anthony McGrath</td>\n",
       "    </tr>\n",
       "    <tr>\n",
       "      <th>3</th>\n",
       "      <td>List A</td>\n",
       "      <td>296</td>\n",
       "      <td>272</td>\n",
       "      <td>41</td>\n",
       "      <td>7574</td>\n",
       "      <td>148</td>\n",
       "      <td>32.78</td>\n",
       "      <td>-</td>\n",
       "      <td>-</td>\n",
       "      <td>7</td>\n",
       "      <td>45</td>\n",
       "      <td>-</td>\n",
       "      <td>-</td>\n",
       "      <td>97</td>\n",
       "      <td>0</td>\n",
       "      <td>Anthony McGrath</td>\n",
       "    </tr>\n",
       "    <tr>\n",
       "      <th>4</th>\n",
       "      <td>T20s</td>\n",
       "      <td>66</td>\n",
       "      <td>61</td>\n",
       "      <td>12</td>\n",
       "      <td>1403</td>\n",
       "      <td>73*</td>\n",
       "      <td>28.63</td>\n",
       "      <td>1226</td>\n",
       "      <td>114.43</td>\n",
       "      <td>0</td>\n",
       "      <td>8</td>\n",
       "      <td>109</td>\n",
       "      <td>34</td>\n",
       "      <td>26</td>\n",
       "      <td>0</td>\n",
       "      <td>Anthony McGrath</td>\n",
       "    </tr>\n",
       "  </tbody>\n",
       "</table>\n",
       "</div>"
      ],
      "text/plain": [
       "   Format  Mat Inns  NO   Runs   HS    Ave    BF      SR 100s 50s   4s  6s  \\\n",
       "0   Tests    4    5   0    201   81   40.2   402   50.00    0   2   27   1   \n",
       "1    ODIs   14   12   2    166   52   16.6   353   47.02    0   1   11   0   \n",
       "2      FC  257  429  30  14698  211  36.83     -       -   35  70    -   -   \n",
       "3  List A  296  272  41   7574  148  32.78     -       -    7  45    -   -   \n",
       "4    T20s   66   61  12   1403  73*  28.63  1226  114.43    0   8  109  34   \n",
       "\n",
       "    Ct  St             Name  \n",
       "0    3   0  Anthony McGrath  \n",
       "1    4   0  Anthony McGrath  \n",
       "2  181   0  Anthony McGrath  \n",
       "3   97   0  Anthony McGrath  \n",
       "4   26   0  Anthony McGrath  "
      ]
     },
     "execution_count": 10,
     "metadata": {},
     "output_type": "execute_result"
    }
   ],
   "source": [
    "df.head()"
   ]
  },
  {
   "cell_type": "code",
   "execution_count": 11,
   "metadata": {},
   "outputs": [],
   "source": [
    "df_tests = df[df['Format'] == 'Tests']\n",
    "df_FC = df[df['Format'] == 'FC']\n",
    "df_LA = df[df['Format'] == 'List A']"
   ]
  },
  {
   "cell_type": "code",
   "execution_count": 12,
   "metadata": {},
   "outputs": [],
   "source": [
    "df_merge = (df_tests[['Name', 'Inns', 'NO', 'Runs', 'Ave']].merge(df_FC[['Name', 'Inns', 'NO', 'Runs', 'Ave']], on='Name', how='left', suffixes=['_test', ''])).\\\n",
    "    merge(df_LA[['Name', 'Inns', 'NO', 'Runs', 'Ave']], on='Name', how='left', suffixes=['_FC', '_LA'])"
   ]
  },
  {
   "cell_type": "code",
   "execution_count": 13,
   "metadata": {},
   "outputs": [
    {
     "name": "stdout",
     "output_type": "stream",
     "text": [
      "Data saved to cricketers.csv\n"
     ]
    }
   ],
   "source": [
    "# Specify the filename\n",
    "filename = 'cricketers.csv'\n",
    "\n",
    "# Save the DataFrame to a CSV file\n",
    "df_merge.to_csv(filename, index=False)\n",
    "\n",
    "print(f'Data saved to {filename}')"
   ]
  },
  {
   "cell_type": "code",
   "execution_count": 14,
   "metadata": {},
   "outputs": [],
   "source": [
    "for col in df_merge.columns[1:]:\n",
    "    df_merge[col] = pd.to_numeric(df_merge[col], errors='coerce')"
   ]
  },
  {
   "cell_type": "code",
   "execution_count": 15,
   "metadata": {},
   "outputs": [],
   "source": [
    "df_merge['Ave_FC_no_test'] = ((df_merge['Runs_FC'] - df_merge['Runs_test']) / (df_merge['Inns_FC'] - df_merge['Inns_test'] - \n",
    "                                                                              (df_merge['NO_FC'] - df_merge['NO_test']))).round(2)"
   ]
  },
  {
   "cell_type": "code",
   "execution_count": 16,
   "metadata": {},
   "outputs": [
    {
     "data": {
      "text/html": [
       "<div>\n",
       "<style scoped>\n",
       "    .dataframe tbody tr th:only-of-type {\n",
       "        vertical-align: middle;\n",
       "    }\n",
       "\n",
       "    .dataframe tbody tr th {\n",
       "        vertical-align: top;\n",
       "    }\n",
       "\n",
       "    .dataframe thead th {\n",
       "        text-align: right;\n",
       "    }\n",
       "</style>\n",
       "<table border=\"1\" class=\"dataframe\">\n",
       "  <thead>\n",
       "    <tr style=\"text-align: right;\">\n",
       "      <th></th>\n",
       "      <th>Name</th>\n",
       "      <th>Inns_test</th>\n",
       "      <th>NO_test</th>\n",
       "      <th>Runs_test</th>\n",
       "      <th>Ave_test</th>\n",
       "      <th>Inns_FC</th>\n",
       "      <th>NO_FC</th>\n",
       "      <th>Runs_FC</th>\n",
       "      <th>Ave_FC</th>\n",
       "      <th>Inns_LA</th>\n",
       "      <th>NO_LA</th>\n",
       "      <th>Runs_LA</th>\n",
       "      <th>Ave_LA</th>\n",
       "      <th>Ave_FC_no_test</th>\n",
       "    </tr>\n",
       "  </thead>\n",
       "  <tbody>\n",
       "    <tr>\n",
       "      <th>0</th>\n",
       "      <td>Anthony McGrath</td>\n",
       "      <td>5.0</td>\n",
       "      <td>0.0</td>\n",
       "      <td>201.0</td>\n",
       "      <td>40.20</td>\n",
       "      <td>429</td>\n",
       "      <td>30</td>\n",
       "      <td>14698</td>\n",
       "      <td>36.83</td>\n",
       "      <td>272</td>\n",
       "      <td>41</td>\n",
       "      <td>7574</td>\n",
       "      <td>32.78</td>\n",
       "      <td>36.79</td>\n",
       "    </tr>\n",
       "    <tr>\n",
       "      <th>1</th>\n",
       "      <td>Richard Johnson</td>\n",
       "      <td>4.0</td>\n",
       "      <td>0.0</td>\n",
       "      <td>59.0</td>\n",
       "      <td>14.75</td>\n",
       "      <td>227</td>\n",
       "      <td>28</td>\n",
       "      <td>3545</td>\n",
       "      <td>17.81</td>\n",
       "      <td>127</td>\n",
       "      <td>30</td>\n",
       "      <td>1108</td>\n",
       "      <td>11.42</td>\n",
       "      <td>17.88</td>\n",
       "    </tr>\n",
       "    <tr>\n",
       "      <th>2</th>\n",
       "      <td>James Kirtley</td>\n",
       "      <td>7.0</td>\n",
       "      <td>1.0</td>\n",
       "      <td>32.0</td>\n",
       "      <td>5.33</td>\n",
       "      <td>231</td>\n",
       "      <td>76</td>\n",
       "      <td>2040</td>\n",
       "      <td>13.16</td>\n",
       "      <td>94</td>\n",
       "      <td>50</td>\n",
       "      <td>447</td>\n",
       "      <td>10.15</td>\n",
       "      <td>13.48</td>\n",
       "    </tr>\n",
       "    <tr>\n",
       "      <th>3</th>\n",
       "      <td>Ed Smith</td>\n",
       "      <td>5.0</td>\n",
       "      <td>0.0</td>\n",
       "      <td>87.0</td>\n",
       "      <td>17.40</td>\n",
       "      <td>325</td>\n",
       "      <td>19</td>\n",
       "      <td>12789</td>\n",
       "      <td>41.79</td>\n",
       "      <td>131</td>\n",
       "      <td>9</td>\n",
       "      <td>3798</td>\n",
       "      <td>31.13</td>\n",
       "      <td>42.20</td>\n",
       "    </tr>\n",
       "    <tr>\n",
       "      <th>4</th>\n",
       "      <td>Kabir Ali</td>\n",
       "      <td>2.0</td>\n",
       "      <td>0.0</td>\n",
       "      <td>10.0</td>\n",
       "      <td>5.00</td>\n",
       "      <td>193</td>\n",
       "      <td>31</td>\n",
       "      <td>2755</td>\n",
       "      <td>17.00</td>\n",
       "      <td>108</td>\n",
       "      <td>28</td>\n",
       "      <td>1251</td>\n",
       "      <td>15.63</td>\n",
       "      <td>17.16</td>\n",
       "    </tr>\n",
       "  </tbody>\n",
       "</table>\n",
       "</div>"
      ],
      "text/plain": [
       "              Name  Inns_test  NO_test  Runs_test  Ave_test  Inns_FC  NO_FC  \\\n",
       "0  Anthony McGrath        5.0      0.0      201.0     40.20      429     30   \n",
       "1  Richard Johnson        4.0      0.0       59.0     14.75      227     28   \n",
       "2    James Kirtley        7.0      1.0       32.0      5.33      231     76   \n",
       "3         Ed Smith        5.0      0.0       87.0     17.40      325     19   \n",
       "4        Kabir Ali        2.0      0.0       10.0      5.00      193     31   \n",
       "\n",
       "   Runs_FC  Ave_FC  Inns_LA  NO_LA  Runs_LA  Ave_LA  Ave_FC_no_test  \n",
       "0    14698   36.83      272     41     7574   32.78           36.79  \n",
       "1     3545   17.81      127     30     1108   11.42           17.88  \n",
       "2     2040   13.16       94     50      447   10.15           13.48  \n",
       "3    12789   41.79      131      9     3798   31.13           42.20  \n",
       "4     2755   17.00      108     28     1251   15.63           17.16  "
      ]
     },
     "execution_count": 16,
     "metadata": {},
     "output_type": "execute_result"
    }
   ],
   "source": [
    "df_merge.head()"
   ]
  },
  {
   "cell_type": "code",
   "execution_count": 17,
   "metadata": {},
   "outputs": [],
   "source": [
    "df_merge['Name'] = df_merge['Name'].replace('\\xa0[\\u2020\\u2021]', '', regex=True)"
   ]
  },
  {
   "cell_type": "code",
   "execution_count": 18,
   "metadata": {},
   "outputs": [],
   "source": [
    "df_filtered = df_merge[df_merge['Runs_test'] > 500]"
   ]
  },
  {
   "cell_type": "code",
   "execution_count": 19,
   "metadata": {},
   "outputs": [],
   "source": [
    "df_filtered = df_filtered.dropna(subset=['Ave_LA', 'Ave_test'])"
   ]
  },
  {
   "cell_type": "code",
   "execution_count": 20,
   "metadata": {},
   "outputs": [
    {
     "data": {
      "text/plain": [
       "0.481313705033907"
      ]
     },
     "execution_count": 20,
     "metadata": {},
     "output_type": "execute_result"
    }
   ],
   "source": [
    "df_filtered['Ave_LA'].corr(df_filtered['Ave_test'])"
   ]
  },
  {
   "cell_type": "code",
   "execution_count": 21,
   "metadata": {},
   "outputs": [
    {
     "data": {
      "text/plain": [
       "0.4811676452089918"
      ]
     },
     "execution_count": 21,
     "metadata": {},
     "output_type": "execute_result"
    }
   ],
   "source": [
    "df_filtered['Ave_FC_no_test'].corr(df_filtered['Ave_test'])"
   ]
  },
  {
   "cell_type": "code",
   "execution_count": 22,
   "metadata": {},
   "outputs": [],
   "source": [
    "df_filtered = df_filtered.rename(columns={'Ave_LA': 'List A Batting Average', 'Ave_test': 'Test Batting Average'})"
   ]
  },
  {
   "cell_type": "code",
   "execution_count": 23,
   "metadata": {},
   "outputs": [
    {
     "data": {
      "application/vnd.plotly.v1+json": {
       "config": {
        "plotlyServerURL": "https://plot.ly"
       },
       "data": [
        {
         "hovertemplate": "<b>%{hovertext}</b><br><br>List A Batting Average=%{x}<br>Test Batting Average=%{y}<br>Label=%{text}<extra></extra>",
         "hovertext": [
          "Paul Collingwood",
          "Geraint Jones",
          "Andrew Strauss",
          "Ian Bell",
          "Kevin Pietersen",
          "Alastair Cook",
          "Matt Prior",
          "Ravi Bopara",
          "Stuart Broad",
          "Graeme Swann",
          "Tim Bresnan",
          "Jonathan Trott",
          "Eoin Morgan",
          "Jonny Bairstow",
          "Nick Compton",
          "Joe Root",
          "Chris Woakes",
          "Ben Stokes",
          "Gary Ballance",
          "Moeen Ali",
          "Jos Buttler",
          "Adil Rashid",
          "Alex Hales",
          "James Vince",
          "Ben Duckett",
          "Keaton Jennings",
          "Dawid Malan",
          "Mark Stoneman",
          "Sam Curran",
          "Ollie Pope",
          "Rory Burns",
          "Ben Foakes",
          "Joe Denly",
          "Dom Sibley",
          "Zak Crawley",
          "Dan Lawrence",
          "Harry Brook",
          "Sam Hain"
         ],
         "legendgroup": "",
         "marker": {
          "color": "#636efa",
          "symbol": "circle"
         },
         "mode": "markers+text",
         "name": "",
         "orientation": "v",
         "showlegend": false,
         "text": [
          null,
          null,
          null,
          "Ian Bell",
          "Kevin Pietersen",
          null,
          null,
          null,
          null,
          null,
          null,
          "Jonathan Trott",
          null,
          null,
          null,
          "Joe Root",
          null,
          null,
          "Gary Ballance",
          null,
          null,
          null,
          null,
          "James Vince",
          null,
          null,
          "Dawid Malan",
          null,
          null,
          "Ollie Pope",
          null,
          null,
          null,
          null,
          null,
          "Dan Lawrence",
          null,
          null
         ],
         "textposition": "top center",
         "type": "scatter",
         "x": [
          34.26,
          25.72,
          32.75,
          41.22,
          40.76,
          39.93,
          27.26,
          40.18,
          11.92,
          18.92,
          21.6,
          48.11,
          38.65,
          39.65,
          35.26,
          46.04,
          22.42,
          38.42,
          47.44,
          27.42,
          43.29,
          18.86,
          38.4,
          39.68,
          38.5,
          43.93,
          44.03,
          37.69,
          21.83,
          33.34,
          33.25,
          38.33,
          36.5,
          27.9,
          33.64,
          26.8,
          30,
          57.76
         ],
         "xaxis": "x",
         "y": [
          40.56,
          23.91,
          40.91,
          42.69,
          47.28,
          45.35,
          40.18,
          31.94,
          18.03,
          22.09,
          26.13,
          44.08,
          30.43,
          36.39,
          28.7,
          49.72,
          27.4,
          35.48,
          40.31,
          28.12,
          31.94,
          19.28,
          27.28,
          24.9,
          40.66,
          25.19,
          27.53,
          27.68,
          24.69,
          34.04,
          30.32,
          29.2,
          29.53,
          28.94,
          32.63,
          29,
          62.15,
          45.02964256019025
         ],
         "yaxis": "y"
        },
        {
         "marker": {
          "color": "red"
         },
         "mode": "markers+text",
         "name": "Sam Hain",
         "text": [
          "Sam Hain"
         ],
         "textposition": "top center",
         "type": "scatter",
         "x": [
          57.76
         ],
         "y": [
          45.02964256019025
         ]
        },
        {
         "mode": "lines",
         "name": "Trendline",
         "type": "scatter",
         "x": [
          0,
          0.7070707070707071,
          1.4141414141414141,
          2.121212121212121,
          2.8282828282828283,
          3.5353535353535355,
          4.242424242424242,
          4.94949494949495,
          5.656565656565657,
          6.363636363636363,
          7.070707070707071,
          7.777777777777778,
          8.484848484848484,
          9.191919191919192,
          9.8989898989899,
          10.606060606060606,
          11.313131313131313,
          12.02020202020202,
          12.727272727272727,
          13.434343434343434,
          14.141414141414142,
          14.848484848484848,
          15.555555555555555,
          16.262626262626263,
          16.96969696969697,
          17.67676767676768,
          18.383838383838384,
          19.09090909090909,
          19.7979797979798,
          20.505050505050505,
          21.21212121212121,
          21.91919191919192,
          22.626262626262626,
          23.333333333333332,
          24.04040404040404,
          24.747474747474747,
          25.454545454545453,
          26.161616161616163,
          26.86868686868687,
          27.575757575757574,
          28.282828282828284,
          28.98989898989899,
          29.696969696969695,
          30.404040404040405,
          31.11111111111111,
          31.818181818181817,
          32.525252525252526,
          33.23232323232323,
          33.93939393939394,
          34.64646464646464,
          35.35353535353536,
          36.06060606060606,
          36.76767676767677,
          37.474747474747474,
          38.18181818181818,
          38.888888888888886,
          39.5959595959596,
          40.303030303030305,
          41.01010101010101,
          41.717171717171716,
          42.42424242424242,
          43.13131313131313,
          43.83838383838384,
          44.54545454545455,
          45.25252525252525,
          45.95959595959596,
          46.666666666666664,
          47.37373737373738,
          48.08080808080808,
          48.78787878787879,
          49.494949494949495,
          50.2020202020202,
          50.90909090909091,
          51.61616161616162,
          52.323232323232325,
          53.03030303030303,
          53.73737373737374,
          54.44444444444444,
          55.15151515151515,
          55.85858585858586,
          56.56565656565657,
          57.27272727272727,
          57.97979797979798,
          58.686868686868685,
          59.39393939393939,
          60.101010101010104,
          60.80808080808081,
          61.515151515151516,
          62.22222222222222,
          62.92929292929293,
          63.63636363636363,
          64.34343434343434,
          65.05050505050505,
          65.75757575757575,
          66.46464646464646,
          67.17171717171718,
          67.87878787878788,
          68.58585858585859,
          69.29292929292929,
          70
         ],
         "y": [
          15.83037077503444,
          16.18781450334261,
          16.54525823165078,
          16.90270195995895,
          17.26014568826712,
          17.61758941657529,
          17.975033144883458,
          18.332476873191627,
          18.689920601499797,
          19.047364329807966,
          19.404808058116135,
          19.762251786424304,
          20.119695514732474,
          20.477139243040643,
          20.834582971348812,
          21.19202669965698,
          21.54947042796515,
          21.90691415627332,
          22.26435788458149,
          22.62180161288966,
          22.979245341197828,
          23.336689069505997,
          23.694132797814166,
          24.05157652612234,
          24.409020254430505,
          24.766463982738678,
          25.123907711046847,
          25.481351439355016,
          25.838795167663186,
          26.196238895971355,
          26.553682624279524,
          26.911126352587694,
          27.268570080895863,
          27.626013809204032,
          27.9834575375122,
          28.34090126582037,
          28.69834499412854,
          29.05578872243671,
          29.41323245074488,
          29.770676179053048,
          30.128119907361217,
          30.485563635669386,
          30.843007363977556,
          31.200451092285725,
          31.557894820593894,
          31.915338548902064,
          32.27278227721023,
          32.6302260055184,
          32.98766973382657,
          33.34511346213474,
          33.70255719044291,
          34.06000091875108,
          34.41744464705925,
          34.77488837536742,
          35.13233210367559,
          35.489775831983756,
          35.847219560291926,
          36.204663288600095,
          36.562107016908264,
          36.91955074521643,
          37.2769944735246,
          37.63443820183277,
          37.99188193014095,
          38.34932565844911,
          38.70676938675728,
          39.06421311506545,
          39.42165684337362,
          39.779100571681795,
          40.136544299989964,
          40.49398802829813,
          40.851431756606296,
          41.208875484914465,
          41.566319213222634,
          41.92376294153081,
          42.28120666983898,
          42.63865039814715,
          42.99609412645532,
          43.35353785476349,
          43.71098158307165,
          44.068425311379826,
          44.425869039687996,
          44.783312767996165,
          45.140756496304334,
          45.4982002246125,
          45.85564395292067,
          46.21308768122884,
          46.57053140953701,
          46.92797513784518,
          47.28541886615335,
          47.64286259446152,
          48.00030632276968,
          48.35775005107785,
          48.71519377938603,
          49.07263750769419,
          49.430081236002366,
          49.787524964310535,
          50.1449686926187,
          50.50241242092687,
          50.859856149235036,
          51.21729987754321
         ]
        }
       ],
       "layout": {
        "legend": {
         "tracegroupgap": 0
        },
        "template": {
         "data": {
          "bar": [
           {
            "error_x": {
             "color": "#2a3f5f"
            },
            "error_y": {
             "color": "#2a3f5f"
            },
            "marker": {
             "line": {
              "color": "#E5ECF6",
              "width": 0.5
             },
             "pattern": {
              "fillmode": "overlay",
              "size": 10,
              "solidity": 0.2
             }
            },
            "type": "bar"
           }
          ],
          "barpolar": [
           {
            "marker": {
             "line": {
              "color": "#E5ECF6",
              "width": 0.5
             },
             "pattern": {
              "fillmode": "overlay",
              "size": 10,
              "solidity": 0.2
             }
            },
            "type": "barpolar"
           }
          ],
          "carpet": [
           {
            "aaxis": {
             "endlinecolor": "#2a3f5f",
             "gridcolor": "white",
             "linecolor": "white",
             "minorgridcolor": "white",
             "startlinecolor": "#2a3f5f"
            },
            "baxis": {
             "endlinecolor": "#2a3f5f",
             "gridcolor": "white",
             "linecolor": "white",
             "minorgridcolor": "white",
             "startlinecolor": "#2a3f5f"
            },
            "type": "carpet"
           }
          ],
          "choropleth": [
           {
            "colorbar": {
             "outlinewidth": 0,
             "ticks": ""
            },
            "type": "choropleth"
           }
          ],
          "contour": [
           {
            "colorbar": {
             "outlinewidth": 0,
             "ticks": ""
            },
            "colorscale": [
             [
              0,
              "#0d0887"
             ],
             [
              0.1111111111111111,
              "#46039f"
             ],
             [
              0.2222222222222222,
              "#7201a8"
             ],
             [
              0.3333333333333333,
              "#9c179e"
             ],
             [
              0.4444444444444444,
              "#bd3786"
             ],
             [
              0.5555555555555556,
              "#d8576b"
             ],
             [
              0.6666666666666666,
              "#ed7953"
             ],
             [
              0.7777777777777778,
              "#fb9f3a"
             ],
             [
              0.8888888888888888,
              "#fdca26"
             ],
             [
              1,
              "#f0f921"
             ]
            ],
            "type": "contour"
           }
          ],
          "contourcarpet": [
           {
            "colorbar": {
             "outlinewidth": 0,
             "ticks": ""
            },
            "type": "contourcarpet"
           }
          ],
          "heatmap": [
           {
            "colorbar": {
             "outlinewidth": 0,
             "ticks": ""
            },
            "colorscale": [
             [
              0,
              "#0d0887"
             ],
             [
              0.1111111111111111,
              "#46039f"
             ],
             [
              0.2222222222222222,
              "#7201a8"
             ],
             [
              0.3333333333333333,
              "#9c179e"
             ],
             [
              0.4444444444444444,
              "#bd3786"
             ],
             [
              0.5555555555555556,
              "#d8576b"
             ],
             [
              0.6666666666666666,
              "#ed7953"
             ],
             [
              0.7777777777777778,
              "#fb9f3a"
             ],
             [
              0.8888888888888888,
              "#fdca26"
             ],
             [
              1,
              "#f0f921"
             ]
            ],
            "type": "heatmap"
           }
          ],
          "heatmapgl": [
           {
            "colorbar": {
             "outlinewidth": 0,
             "ticks": ""
            },
            "colorscale": [
             [
              0,
              "#0d0887"
             ],
             [
              0.1111111111111111,
              "#46039f"
             ],
             [
              0.2222222222222222,
              "#7201a8"
             ],
             [
              0.3333333333333333,
              "#9c179e"
             ],
             [
              0.4444444444444444,
              "#bd3786"
             ],
             [
              0.5555555555555556,
              "#d8576b"
             ],
             [
              0.6666666666666666,
              "#ed7953"
             ],
             [
              0.7777777777777778,
              "#fb9f3a"
             ],
             [
              0.8888888888888888,
              "#fdca26"
             ],
             [
              1,
              "#f0f921"
             ]
            ],
            "type": "heatmapgl"
           }
          ],
          "histogram": [
           {
            "marker": {
             "pattern": {
              "fillmode": "overlay",
              "size": 10,
              "solidity": 0.2
             }
            },
            "type": "histogram"
           }
          ],
          "histogram2d": [
           {
            "colorbar": {
             "outlinewidth": 0,
             "ticks": ""
            },
            "colorscale": [
             [
              0,
              "#0d0887"
             ],
             [
              0.1111111111111111,
              "#46039f"
             ],
             [
              0.2222222222222222,
              "#7201a8"
             ],
             [
              0.3333333333333333,
              "#9c179e"
             ],
             [
              0.4444444444444444,
              "#bd3786"
             ],
             [
              0.5555555555555556,
              "#d8576b"
             ],
             [
              0.6666666666666666,
              "#ed7953"
             ],
             [
              0.7777777777777778,
              "#fb9f3a"
             ],
             [
              0.8888888888888888,
              "#fdca26"
             ],
             [
              1,
              "#f0f921"
             ]
            ],
            "type": "histogram2d"
           }
          ],
          "histogram2dcontour": [
           {
            "colorbar": {
             "outlinewidth": 0,
             "ticks": ""
            },
            "colorscale": [
             [
              0,
              "#0d0887"
             ],
             [
              0.1111111111111111,
              "#46039f"
             ],
             [
              0.2222222222222222,
              "#7201a8"
             ],
             [
              0.3333333333333333,
              "#9c179e"
             ],
             [
              0.4444444444444444,
              "#bd3786"
             ],
             [
              0.5555555555555556,
              "#d8576b"
             ],
             [
              0.6666666666666666,
              "#ed7953"
             ],
             [
              0.7777777777777778,
              "#fb9f3a"
             ],
             [
              0.8888888888888888,
              "#fdca26"
             ],
             [
              1,
              "#f0f921"
             ]
            ],
            "type": "histogram2dcontour"
           }
          ],
          "mesh3d": [
           {
            "colorbar": {
             "outlinewidth": 0,
             "ticks": ""
            },
            "type": "mesh3d"
           }
          ],
          "parcoords": [
           {
            "line": {
             "colorbar": {
              "outlinewidth": 0,
              "ticks": ""
             }
            },
            "type": "parcoords"
           }
          ],
          "pie": [
           {
            "automargin": true,
            "type": "pie"
           }
          ],
          "scatter": [
           {
            "fillpattern": {
             "fillmode": "overlay",
             "size": 10,
             "solidity": 0.2
            },
            "type": "scatter"
           }
          ],
          "scatter3d": [
           {
            "line": {
             "colorbar": {
              "outlinewidth": 0,
              "ticks": ""
             }
            },
            "marker": {
             "colorbar": {
              "outlinewidth": 0,
              "ticks": ""
             }
            },
            "type": "scatter3d"
           }
          ],
          "scattercarpet": [
           {
            "marker": {
             "colorbar": {
              "outlinewidth": 0,
              "ticks": ""
             }
            },
            "type": "scattercarpet"
           }
          ],
          "scattergeo": [
           {
            "marker": {
             "colorbar": {
              "outlinewidth": 0,
              "ticks": ""
             }
            },
            "type": "scattergeo"
           }
          ],
          "scattergl": [
           {
            "marker": {
             "colorbar": {
              "outlinewidth": 0,
              "ticks": ""
             }
            },
            "type": "scattergl"
           }
          ],
          "scattermapbox": [
           {
            "marker": {
             "colorbar": {
              "outlinewidth": 0,
              "ticks": ""
             }
            },
            "type": "scattermapbox"
           }
          ],
          "scatterpolar": [
           {
            "marker": {
             "colorbar": {
              "outlinewidth": 0,
              "ticks": ""
             }
            },
            "type": "scatterpolar"
           }
          ],
          "scatterpolargl": [
           {
            "marker": {
             "colorbar": {
              "outlinewidth": 0,
              "ticks": ""
             }
            },
            "type": "scatterpolargl"
           }
          ],
          "scatterternary": [
           {
            "marker": {
             "colorbar": {
              "outlinewidth": 0,
              "ticks": ""
             }
            },
            "type": "scatterternary"
           }
          ],
          "surface": [
           {
            "colorbar": {
             "outlinewidth": 0,
             "ticks": ""
            },
            "colorscale": [
             [
              0,
              "#0d0887"
             ],
             [
              0.1111111111111111,
              "#46039f"
             ],
             [
              0.2222222222222222,
              "#7201a8"
             ],
             [
              0.3333333333333333,
              "#9c179e"
             ],
             [
              0.4444444444444444,
              "#bd3786"
             ],
             [
              0.5555555555555556,
              "#d8576b"
             ],
             [
              0.6666666666666666,
              "#ed7953"
             ],
             [
              0.7777777777777778,
              "#fb9f3a"
             ],
             [
              0.8888888888888888,
              "#fdca26"
             ],
             [
              1,
              "#f0f921"
             ]
            ],
            "type": "surface"
           }
          ],
          "table": [
           {
            "cells": {
             "fill": {
              "color": "#EBF0F8"
             },
             "line": {
              "color": "white"
             }
            },
            "header": {
             "fill": {
              "color": "#C8D4E3"
             },
             "line": {
              "color": "white"
             }
            },
            "type": "table"
           }
          ]
         },
         "layout": {
          "annotationdefaults": {
           "arrowcolor": "#2a3f5f",
           "arrowhead": 0,
           "arrowwidth": 1
          },
          "autotypenumbers": "strict",
          "coloraxis": {
           "colorbar": {
            "outlinewidth": 0,
            "ticks": ""
           }
          },
          "colorscale": {
           "diverging": [
            [
             0,
             "#8e0152"
            ],
            [
             0.1,
             "#c51b7d"
            ],
            [
             0.2,
             "#de77ae"
            ],
            [
             0.3,
             "#f1b6da"
            ],
            [
             0.4,
             "#fde0ef"
            ],
            [
             0.5,
             "#f7f7f7"
            ],
            [
             0.6,
             "#e6f5d0"
            ],
            [
             0.7,
             "#b8e186"
            ],
            [
             0.8,
             "#7fbc41"
            ],
            [
             0.9,
             "#4d9221"
            ],
            [
             1,
             "#276419"
            ]
           ],
           "sequential": [
            [
             0,
             "#0d0887"
            ],
            [
             0.1111111111111111,
             "#46039f"
            ],
            [
             0.2222222222222222,
             "#7201a8"
            ],
            [
             0.3333333333333333,
             "#9c179e"
            ],
            [
             0.4444444444444444,
             "#bd3786"
            ],
            [
             0.5555555555555556,
             "#d8576b"
            ],
            [
             0.6666666666666666,
             "#ed7953"
            ],
            [
             0.7777777777777778,
             "#fb9f3a"
            ],
            [
             0.8888888888888888,
             "#fdca26"
            ],
            [
             1,
             "#f0f921"
            ]
           ],
           "sequentialminus": [
            [
             0,
             "#0d0887"
            ],
            [
             0.1111111111111111,
             "#46039f"
            ],
            [
             0.2222222222222222,
             "#7201a8"
            ],
            [
             0.3333333333333333,
             "#9c179e"
            ],
            [
             0.4444444444444444,
             "#bd3786"
            ],
            [
             0.5555555555555556,
             "#d8576b"
            ],
            [
             0.6666666666666666,
             "#ed7953"
            ],
            [
             0.7777777777777778,
             "#fb9f3a"
            ],
            [
             0.8888888888888888,
             "#fdca26"
            ],
            [
             1,
             "#f0f921"
            ]
           ]
          },
          "colorway": [
           "#636efa",
           "#EF553B",
           "#00cc96",
           "#ab63fa",
           "#FFA15A",
           "#19d3f3",
           "#FF6692",
           "#B6E880",
           "#FF97FF",
           "#FECB52"
          ],
          "font": {
           "color": "#2a3f5f"
          },
          "geo": {
           "bgcolor": "white",
           "lakecolor": "white",
           "landcolor": "#E5ECF6",
           "showlakes": true,
           "showland": true,
           "subunitcolor": "white"
          },
          "hoverlabel": {
           "align": "left"
          },
          "hovermode": "closest",
          "mapbox": {
           "style": "light"
          },
          "paper_bgcolor": "white",
          "plot_bgcolor": "#E5ECF6",
          "polar": {
           "angularaxis": {
            "gridcolor": "white",
            "linecolor": "white",
            "ticks": ""
           },
           "bgcolor": "#E5ECF6",
           "radialaxis": {
            "gridcolor": "white",
            "linecolor": "white",
            "ticks": ""
           }
          },
          "scene": {
           "xaxis": {
            "backgroundcolor": "#E5ECF6",
            "gridcolor": "white",
            "gridwidth": 2,
            "linecolor": "white",
            "showbackground": true,
            "ticks": "",
            "zerolinecolor": "white"
           },
           "yaxis": {
            "backgroundcolor": "#E5ECF6",
            "gridcolor": "white",
            "gridwidth": 2,
            "linecolor": "white",
            "showbackground": true,
            "ticks": "",
            "zerolinecolor": "white"
           },
           "zaxis": {
            "backgroundcolor": "#E5ECF6",
            "gridcolor": "white",
            "gridwidth": 2,
            "linecolor": "white",
            "showbackground": true,
            "ticks": "",
            "zerolinecolor": "white"
           }
          },
          "shapedefaults": {
           "line": {
            "color": "#2a3f5f"
           }
          },
          "ternary": {
           "aaxis": {
            "gridcolor": "white",
            "linecolor": "white",
            "ticks": ""
           },
           "baxis": {
            "gridcolor": "white",
            "linecolor": "white",
            "ticks": ""
           },
           "bgcolor": "#E5ECF6",
           "caxis": {
            "gridcolor": "white",
            "linecolor": "white",
            "ticks": ""
           }
          },
          "title": {
           "x": 0.05
          },
          "xaxis": {
           "automargin": true,
           "gridcolor": "white",
           "linecolor": "white",
           "ticks": "",
           "title": {
            "standoff": 15
           },
           "zerolinecolor": "white",
           "zerolinewidth": 2
          },
          "yaxis": {
           "automargin": true,
           "gridcolor": "white",
           "linecolor": "white",
           "ticks": "",
           "title": {
            "standoff": 15
           },
           "zerolinecolor": "white",
           "zerolinewidth": 2
          }
         }
        },
        "title": {
         "text": "Test Batting Average vs List A Batting Average"
        },
        "xaxis": {
         "anchor": "y",
         "domain": [
          0,
          1
         ],
         "range": [
          0,
          70
         ],
         "title": {
          "text": "List A Batting Average"
         }
        },
        "yaxis": {
         "anchor": "x",
         "domain": [
          0,
          1
         ],
         "range": [
          0,
          60
         ],
         "title": {
          "text": "Test Batting Average"
         }
        }
       }
      }
     },
     "metadata": {},
     "output_type": "display_data"
    }
   ],
   "source": [
    "# Assuming 'Test Batting Average' and 'List A Batting Average' are already numeric\n",
    "X = df_filtered['List A Batting Average'].values.reshape(-1, 1)  # Predictor\n",
    "y = df_filtered['Test Batting Average']  # Response\n",
    "\n",
    "# Add a constant for the intercept to X\n",
    "X = sm.add_constant(X)\n",
    "\n",
    "# Fit the OLS model\n",
    "model = sm.OLS(y, X).fit()\n",
    "\n",
    "# Predictions for the extended range\n",
    "# Assume you want to extend the x-axis to cover List A averages up to 70\n",
    "x_pred = np.linspace(0, 70, 100)  # Generate values from min to 70\n",
    "x_pred2 = sm.add_constant(x_pred)  # Add a constant for the intercept\n",
    "y_pred = model.predict(x_pred2)  # Make predictions\n",
    "\n",
    "# Predict Sam Hain's Test Average\n",
    "sam_hain_list_a_avg = 57.76\n",
    "sam_hain_test_pred = model.predict([1, sam_hain_list_a_avg])[0]\n",
    "\n",
    "# Create a DataFrame for Sam Hain's data\n",
    "sam_hain_df = pd.DataFrame({\n",
    "    'Name': ['Sam Hain'],\n",
    "    'List A Batting Average': [sam_hain_list_a_avg],\n",
    "    'Test Batting Average': [sam_hain_test_pred],\n",
    "    'Label': ['Sam Hain']\n",
    "})\n",
    "\n",
    "# Concatenate Sam Hain's DataFrame with the original DataFrame\n",
    "df_filtered = pd.concat([df_filtered, sam_hain_df], ignore_index=True)\n",
    "\n",
    "\n",
    "# List of names you want to label\n",
    "names_to_label = ['Kevin Pietersen', 'James Vince', 'Joe Root', 'Ollie Pope', 'Dan Lawrence', 'Gary Ballance', 'Ian Bell', 'Jonathan Trott', 'Dawid Malan']\n",
    "\n",
    "# Create a new column for labels\n",
    "df_filtered['Label'] = df_filtered['Name'].apply(lambda x: x if x in names_to_label else None)\n",
    "\n",
    "# Create the scatter plot\n",
    "fig = px.scatter(df_filtered, x='List A Batting Average', y='Test Batting Average',\n",
    "                 text='Label',  # Use the new 'Label' column for text\n",
    "                 hover_name='Name',  # Still use the original 'Name' column for hover text\n",
    "                 title=\"Test Batting Average vs List A Batting Average\")\n",
    "\n",
    "# Optional: Update layout or traces if necessary\n",
    "fig.update_traces(textposition='top center')\n",
    "\n",
    "# Highlight Sam Hain in red\n",
    "fig.add_trace(go.Scatter(x=[sam_hain_list_a_avg], y=[sam_hain_test_pred],\n",
    "                         mode='markers+text', name='Sam Hain', text=['Sam Hain'],\n",
    "                         textposition='top center', marker_color='red'))\n",
    "\n",
    "# Add the extended trendline\n",
    "fig.add_trace(go.Scatter(x=x_pred, y=y_pred, mode='lines', name='Trendline'))\n",
    "\n",
    "# Update layout for x-axis to extend to 70\n",
    "fig.update_layout(xaxis_range=[0, 70], yaxis_range=[0, 60])\n",
    "\n",
    "# Show plot\n",
    "fig.show()\n"
   ]
  }
 ],
 "metadata": {
  "kernelspec": {
   "display_name": ".venv",
   "language": "python",
   "name": "python3"
  },
  "language_info": {
   "codemirror_mode": {
    "name": "ipython",
    "version": 3
   },
   "file_extension": ".py",
   "mimetype": "text/x-python",
   "name": "python",
   "nbconvert_exporter": "python",
   "pygments_lexer": "ipython3",
   "version": "3.9.5"
  }
 },
 "nbformat": 4,
 "nbformat_minor": 2
}
